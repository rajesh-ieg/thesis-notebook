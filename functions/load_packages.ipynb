{
 "cells": [
  {
   "cell_type": "code",
   "execution_count": null,
   "metadata": {},
   "outputs": [],
   "source": [
    "import pypsa\n",
    "import matplotlib.pyplot as plt\n",
    "import geopandas as gpd\n",
    "import numpy as np\n",
    "import pandas as pd\n",
    "from pathlib import Path\n",
    "import seaborn as sns\n",
    "from datetime import datetime\n",
    "from cartopy import crs as ccrs\n",
    "from pypsa.plot import add_legend_circles, add_legend_lines, add_legend_patches\n",
    "from shapely.validation import make_valid\n",
    "import matplotlib.lines as mlines"
   ]
  }
 ],
 "metadata": {
  "kernelspec": {
   "display_name": "Python 3.10.9 ('pypsa-earth')",
   "language": "python",
   "name": "python3"
  },
  "language_info": {
   "name": "python",
   "version": "3.10.9"
  },
  "orig_nbformat": 4,
  "vscode": {
   "interpreter": {
    "hash": "ce9b1886ff23ca88d020f1a81eb94f299cec504c0c2b3816c22f4ea26d1935b1"
   }
  }
 },
 "nbformat": 4,
 "nbformat_minor": 2
}
