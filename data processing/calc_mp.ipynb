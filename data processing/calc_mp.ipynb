def calculate_spec_prod_costs(n):
    '''Takes a solved sector-coupled PyPSA network and outputs specific productio costs for one kg hydrogen at export nodes'''
    h2_prod_ex = n.links_t['p0'].filter(like='H2 export') #Amounts of H2 produced and provided for export
    h2_prod_ex.columns = h2_prod_ex.columns.str.strip(' export') #Modify column names to match with MP dataframe
    marginal_prices = n.buses_t.marginal_price.loc[:, h2_prod_ex.columns] #Marginal H2 prices at export nodes
    prod_costs = (h2_prod_ex * marginal_prices).sum(axis=0) #Product of production ampunts and prices yields total production costs for each export node
    spec_prod_costs = prod_costs / h2_prod_ex.sum(axis=0) # Division by total nodal production amount yields specific production costs of hydrogen for each export node
    spec_prod_costs = spec_prod_costs * 33.3 / 1000 #Calculate costs per kg assuming 1 kg H2 equals 33.3 KWh
    return spec_prod_costs