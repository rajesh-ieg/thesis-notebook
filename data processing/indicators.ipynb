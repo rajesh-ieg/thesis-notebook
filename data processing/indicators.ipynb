{
 "cells": [
  {
   "cell_type": "code",
   "execution_count": 1,
   "metadata": {},
   "outputs": [],
   "source": [
    "%run -i ../functions/load_packages.ipynb\n",
    "%run -i ../functions/helper_functions.ipynb"
   ]
  },
  {
   "cell_type": "markdown",
   "metadata": {},
   "source": [
    "### Setup network files and relevant technologies for 2030"
   ]
  },
  {
   "cell_type": "code",
   "execution_count": 2,
   "metadata": {},
   "outputs": [],
   "source": [
    "res_techs = [\n",
    "        \"csp\",\n",
    "        \"rooftop-solar\",\n",
    "        \"solar\",\n",
    "        \"onwind\",\n",
    "        \"onwind2\",\n",
    "        \"offwind\",\n",
    "        \"offwind2\",\n",
    "        \"ror\",\n",
    "    ]\n",
    "Q30 = [\n",
    "        \"1\",\n",
    "        \"5\",\n",
    "        \"10\",\n",
    "        \"100\",\n",
    "        \"200\"\n",
    "    ]\n",
    "run = [\"MT_real30\", \"MT_real30\"]\n",
    "cluster = \"33\"\n",
    "timestep = \"3\"\n",
    "scenario = \"AP\"\n",
    "ir = \"0.082\""
   ]
  },
  {
   "cell_type": "markdown",
   "metadata": {},
   "source": [
    "### Additional renewable for export quantity"
   ]
  },
  {
   "cell_type": "code",
   "execution_count": 3,
   "metadata": {},
   "outputs": [],
   "source": [
    "def calc_additional_res(n, n_ref, tech):\n",
    "    res_index = n.generators.filter(regex='{}$'.format(tech), axis=0).index\n",
    "\n",
    "    res_cap = n.generators.p_nom_opt[res_index].sum()\n",
    "    res_cap_ref = n_ref.generators.p_nom_opt[res_index].sum()\n",
    "\n",
    "    return (res_cap - res_cap_ref) / 1e3"
   ]
  },
  {
   "cell_type": "code",
   "execution_count": 4,
   "metadata": {},
   "outputs": [
    {
     "name": "stderr",
     "output_type": "stream",
     "text": [
      "INFO:pypsa.io:Imported network elec_s_33_ec_lc1.0_Co2L_3H_2030_0.082_AP_0export.nc has buses, carriers, generators, global_constraints, lines, links, loads, stores\n",
      "INFO:pypsa.io:Imported network elec_s_33_ec_lc1.0_Co2L_3H_2030_0.082_AP_1export.nc has buses, carriers, generators, global_constraints, lines, links, loads, stores\n"
     ]
    },
    {
     "name": "stdout",
     "output_type": "stream",
     "text": [
      "\n",
      " Additional renewable for export quantity 1 [TWh] : \n",
      "csp : 3.07482771926499e-06 GW\n",
      "rooftop-solar : -1.8264520132760462e-06 GW\n",
      "solar : 0.8621826125817879 GW\n",
      "onwind : 7.67275308943649e-06 GW\n",
      "onwind2 : 1.7515119148735214e-05 GW\n",
      "offwind : 3.5413141803612956e-06 GW\n",
      "offwind2 : 1.2898763345972915e-06 GW\n",
      "ror : 0.0 GW\n"
     ]
    },
    {
     "name": "stderr",
     "output_type": "stream",
     "text": [
      "INFO:pypsa.io:Imported network elec_s_33_ec_lc1.0_Co2L_3H_2030_0.082_AP_0export.nc has buses, carriers, generators, global_constraints, lines, links, loads, stores\n",
      "INFO:pypsa.io:Imported network elec_s_33_ec_lc1.0_Co2L_3H_2030_0.082_AP_5export.nc has buses, carriers, generators, global_constraints, lines, links, loads, stores\n"
     ]
    },
    {
     "name": "stdout",
     "output_type": "stream",
     "text": [
      "\n",
      " Additional renewable for export quantity 5 [TWh] : \n",
      "csp : 7.97708918831435e-06 GW\n",
      "rooftop-solar : 3.4769858932148998e-06 GW\n",
      "solar : 4.24722591925876 GW\n",
      "onwind : -7.908335136607567e-05 GW\n",
      "onwind2 : 8.415807865488983e-06 GW\n",
      "offwind : 8.094216066380152e-07 GW\n",
      "offwind2 : 1.0069451632944618e-06 GW\n",
      "ror : 0.0 GW\n"
     ]
    },
    {
     "name": "stderr",
     "output_type": "stream",
     "text": [
      "INFO:pypsa.io:Imported network elec_s_33_ec_lc1.0_Co2L_3H_2030_0.082_AP_0export.nc has buses, carriers, generators, global_constraints, lines, links, loads, stores\n",
      "INFO:pypsa.io:Imported network elec_s_33_ec_lc1.0_Co2L_3H_2030_0.082_AP_10export.nc has buses, carriers, generators, global_constraints, lines, links, loads, stores\n"
     ]
    },
    {
     "name": "stdout",
     "output_type": "stream",
     "text": [
      "\n",
      " Additional renewable for export quantity 10 [TWh] : \n",
      "csp : 0.00017667884873867113 GW\n",
      "rooftop-solar : 0.0002503099291576173 GW\n",
      "solar : 8.500212575889316 GW\n",
      "onwind : 0.0009219603108169916 GW\n",
      "onwind2 : 0.00041732652440488056 GW\n",
      "offwind : 9.241343121592248e-05 GW\n",
      "offwind2 : 7.752860096110623e-05 GW\n",
      "ror : 0.0 GW\n"
     ]
    },
    {
     "name": "stderr",
     "output_type": "stream",
     "text": [
      "INFO:pypsa.io:Imported network elec_s_33_ec_lc1.0_Co2L_3H_2030_0.082_AP_0export.nc has buses, carriers, generators, global_constraints, lines, links, loads, stores\n",
      "INFO:pypsa.io:Imported network elec_s_33_ec_lc1.0_Co2L_3H_2030_0.082_AP_100export.nc has buses, carriers, generators, global_constraints, lines, links, loads, stores\n"
     ]
    },
    {
     "name": "stdout",
     "output_type": "stream",
     "text": [
      "\n",
      " Additional renewable for export quantity 100 [TWh] : \n",
      "csp : 0.00027218473615209563 GW\n",
      "rooftop-solar : 0.0001886684131538615 GW\n",
      "solar : 86.58446540958992 GW\n",
      "onwind : 0.0014532694492141258 GW\n",
      "onwind2 : 0.0009287131373653646 GW\n",
      "offwind : 0.00016641986320871453 GW\n",
      "offwind2 : 0.00012218439721000334 GW\n",
      "ror : 0.0 GW\n"
     ]
    },
    {
     "name": "stderr",
     "output_type": "stream",
     "text": [
      "INFO:pypsa.io:Imported network elec_s_33_ec_lc1.0_Co2L_3H_2030_0.082_AP_0export.nc has buses, carriers, generators, global_constraints, lines, links, loads, stores\n",
      "INFO:pypsa.io:Imported network elec_s_33_ec_lc1.0_Co2L_3H_2030_0.082_AP_200export.nc has buses, carriers, generators, global_constraints, lines, links, loads, stores\n"
     ]
    },
    {
     "name": "stdout",
     "output_type": "stream",
     "text": [
      "\n",
      " Additional renewable for export quantity 200 [TWh] : \n",
      "csp : 0.0001820302118840924 GW\n",
      "rooftop-solar : 0.0002852581050324859 GW\n",
      "solar : 173.99784650405846 GW\n",
      "onwind : 0.0009195284508188875 GW\n",
      "onwind2 : 0.0004112622774876829 GW\n",
      "offwind : 9.474999681113092e-05 GW\n",
      "offwind2 : 7.917879353855689e-05 GW\n",
      "ror : 0.0 GW\n"
     ]
    }
   ],
   "source": [
    "for q in Q30:\n",
    "    n_ref = pypsa.Network(\"/home/raj08555/dev/sandbox-cs/pypsa-earth-sec/results/{}/postnetworks/elec_s_{}_ec_lc1.0_Co2L_{}H_2030_{}_{}_0export.nc\".format(run, cluster, timestep, ir, scenario))\n",
    "    n = pypsa.Network(\"/home/raj08555/dev/sandbox-cs/pypsa-earth-sec/results/{}/postnetworks/elec_s_{}_ec_lc1.0_Co2L_{}H_2030_{}_{}_{}export.nc\".format(run, cluster, timestep, ir, scenario,q))\n",
    "    print(\"\\n Additional renewable for export quantity {} [TWh] : \".format(q))\n",
    "    for tech in res_techs:\n",
    "        print('{} : {} GW' .format(tech, float(calc_additional_res(n, n_ref, tech))))"
   ]
  },
  {
   "cell_type": "markdown",
   "metadata": {},
   "source": [
    "### Additional electrolyser for export quantity"
   ]
  },
  {
   "cell_type": "code",
   "execution_count": 5,
   "metadata": {},
   "outputs": [],
   "source": [
    "def calc_additional_elec(n, n_ref):\n",
    "\n",
    "    elec_cap = n.links.filter(like='Electrolysis', axis=0).p_nom_opt.sum()\n",
    "    res_cap_ref = n_ref.links.filter(like='Electrolysis', axis=0).p_nom_opt.sum()\n",
    "\n",
    "    return (elec_cap - res_cap_ref) / 1e3"
   ]
  },
  {
   "cell_type": "code",
   "execution_count": 6,
   "metadata": {},
   "outputs": [
    {
     "name": "stderr",
     "output_type": "stream",
     "text": [
      "INFO:pypsa.io:Imported network elec_s_33_ec_lc1.0_Co2L_3H_2030_0.082_AP_0export.nc has buses, carriers, generators, global_constraints, lines, links, loads, stores\n",
      "INFO:pypsa.io:Imported network elec_s_33_ec_lc1.0_Co2L_3H_2030_0.082_AP_1export.nc has buses, carriers, generators, global_constraints, lines, links, loads, stores\n"
     ]
    },
    {
     "name": "stdout",
     "output_type": "stream",
     "text": [
      "\n",
      " Additional electrolyser for export quantity 1 [TWh] : \n",
      " \n",
      " 0.5715378442931174 GW\n"
     ]
    },
    {
     "name": "stderr",
     "output_type": "stream",
     "text": [
      "INFO:pypsa.io:Imported network elec_s_33_ec_lc1.0_Co2L_3H_2030_0.082_AP_0export.nc has buses, carriers, generators, global_constraints, lines, links, loads, stores\n",
      "INFO:pypsa.io:Imported network elec_s_33_ec_lc1.0_Co2L_3H_2030_0.082_AP_5export.nc has buses, carriers, generators, global_constraints, lines, links, loads, stores\n"
     ]
    },
    {
     "name": "stdout",
     "output_type": "stream",
     "text": [
      "\n",
      " Additional electrolyser for export quantity 5 [TWh] : \n",
      " \n",
      " 2.6370010574461378 GW\n"
     ]
    },
    {
     "name": "stderr",
     "output_type": "stream",
     "text": [
      "INFO:pypsa.io:Imported network elec_s_33_ec_lc1.0_Co2L_3H_2030_0.082_AP_0export.nc has buses, carriers, generators, global_constraints, lines, links, loads, stores\n",
      "INFO:pypsa.io:Imported network elec_s_33_ec_lc1.0_Co2L_3H_2030_0.082_AP_10export.nc has buses, carriers, generators, global_constraints, lines, links, loads, stores\n"
     ]
    },
    {
     "name": "stdout",
     "output_type": "stream",
     "text": [
      "\n",
      " Additional electrolyser for export quantity 10 [TWh] : \n",
      " \n",
      " 5.195973777813081 GW\n"
     ]
    },
    {
     "name": "stderr",
     "output_type": "stream",
     "text": [
      "INFO:pypsa.io:Imported network elec_s_33_ec_lc1.0_Co2L_3H_2030_0.082_AP_0export.nc has buses, carriers, generators, global_constraints, lines, links, loads, stores\n",
      "INFO:pypsa.io:Imported network elec_s_33_ec_lc1.0_Co2L_3H_2030_0.082_AP_100export.nc has buses, carriers, generators, global_constraints, lines, links, loads, stores\n"
     ]
    },
    {
     "name": "stdout",
     "output_type": "stream",
     "text": [
      "\n",
      " Additional electrolyser for export quantity 100 [TWh] : \n",
      " \n",
      " 51.75484238062486 GW\n"
     ]
    },
    {
     "name": "stderr",
     "output_type": "stream",
     "text": [
      "INFO:pypsa.io:Imported network elec_s_33_ec_lc1.0_Co2L_3H_2030_0.082_AP_0export.nc has buses, carriers, generators, global_constraints, lines, links, loads, stores\n",
      "INFO:pypsa.io:Imported network elec_s_33_ec_lc1.0_Co2L_3H_2030_0.082_AP_200export.nc has buses, carriers, generators, global_constraints, lines, links, loads, stores\n"
     ]
    },
    {
     "name": "stdout",
     "output_type": "stream",
     "text": [
      "\n",
      " Additional electrolyser for export quantity 200 [TWh] : \n",
      " \n",
      " 103.16964466322823 GW\n"
     ]
    }
   ],
   "source": [
    "for q in Q30:\n",
    "    n_ref = pypsa.Network(\"/home/raj08555/dev/sandbox-cs/pypsa-earth-sec/results/{}/postnetworks/elec_s_{}_ec_lc1.0_Co2L_{}H_2030_{}_{}_0export.nc\".format(run, cluster, timestep, ir, scenario))\n",
    "    n = pypsa.Network(\"/home/raj08555/dev/sandbox-cs/pypsa-earth-sec/results/{}/postnetworks/elec_s_{}_ec_lc1.0_Co2L_{}H_2030_{}_{}_{}export.nc\".format(run, cluster, timestep, ir, scenario,q))\n",
    "    print(\"\\n Additional electrolyser for export quantity {} [TWh] : \".format(q))\n",
    "    print(' \\n '+ str(calc_additional_elec(n, n_ref)) + \" GW\")"
   ]
  },
  {
   "cell_type": "markdown",
   "metadata": {},
   "source": [
    "### Utilization for export quantity"
   ]
  },
  {
   "cell_type": "code",
   "execution_count": 7,
   "metadata": {},
   "outputs": [],
   "source": [
    "def calc_util(n, tech):\n",
    "    \n",
    "    tech_index = n.generators.loc[n.generators.carrier == tech].index\n",
    "\n",
    "    weightings = pd.DataFrame(\n",
    "        np.outer(n.snapshot_weightings[\"generators\"], [1.0] * len(tech_index)),\n",
    "        index=n.snapshots,\n",
    "        columns=tech_index,\n",
    "    )\n",
    "    gen_tech = (n.generators_t.p.filter(regex='{}$'.format(tech)) * weightings).sum()\n",
    "    installed_cap = n.generators.p_nom_opt.filter(regex='{}$'.format(tech))\n",
    "    year_avail = (n.generators_t.p_max_pu.filter(regex='{}$'.format(tech)) * weightings ).sum()\n",
    "    \n",
    "    max_gen_solar=(installed_cap * year_avail)\n",
    "    \n",
    "    return (gen_tech/max_gen_solar).mean()  \n",
    "    "
   ]
  },
  {
   "cell_type": "code",
   "execution_count": 8,
   "metadata": {},
   "outputs": [
    {
     "name": "stderr",
     "output_type": "stream",
     "text": [
      "INFO:pypsa.io:Imported network elec_s_33_ec_lc1.0_Co2L_3H_2030_0.082_AP_1export.nc has buses, carriers, generators, global_constraints, lines, links, loads, stores\n"
     ]
    },
    {
     "name": "stdout",
     "output_type": "stream",
     "text": [
      "\n",
      " Utilization for export quantity 1 [TWh] : \n",
      "csp : 64.05801384736168 % \n",
      "rooftop-solar : 61.82887629056023 % \n",
      "solar : 77.96501397927629 % \n",
      "onwind : 77.47856687679926 % \n",
      "onwind2 : 69.64664843861628 % \n",
      "offwind : 64.99943334558826 % \n",
      "offwind2 : 59.70050194944637 % \n",
      "ror : inf % \n"
     ]
    },
    {
     "name": "stderr",
     "output_type": "stream",
     "text": [
      "INFO:pypsa.io:Imported network elec_s_33_ec_lc1.0_Co2L_3H_2030_0.082_AP_5export.nc has buses, carriers, generators, global_constraints, lines, links, loads, stores\n"
     ]
    },
    {
     "name": "stdout",
     "output_type": "stream",
     "text": [
      "\n",
      " Utilization for export quantity 5 [TWh] : \n",
      "csp : 64.00790522422687 % \n",
      "rooftop-solar : 60.690451711740145 % \n",
      "solar : 77.57729732531965 % \n",
      "onwind : 75.23930272510985 % \n",
      "onwind2 : 67.44014133388598 % \n",
      "offwind : 62.2763174604245 % \n",
      "offwind2 : 58.50183611627817 % \n",
      "ror : inf % \n"
     ]
    },
    {
     "name": "stderr",
     "output_type": "stream",
     "text": [
      "INFO:pypsa.io:Imported network elec_s_33_ec_lc1.0_Co2L_3H_2030_0.082_AP_10export.nc has buses, carriers, generators, global_constraints, lines, links, loads, stores\n"
     ]
    },
    {
     "name": "stdout",
     "output_type": "stream",
     "text": [
      "\n",
      " Utilization for export quantity 10 [TWh] : \n",
      "csp : 68.3092767203491 % \n",
      "rooftop-solar : 61.217180386528234 % \n",
      "solar : 74.84297066705211 % \n",
      "onwind : 75.8434449291237 % \n",
      "onwind2 : 68.45961292234769 % \n",
      "offwind : 64.94241291723604 % \n",
      "offwind2 : 59.591012853982875 % \n",
      "ror : inf % \n"
     ]
    },
    {
     "name": "stderr",
     "output_type": "stream",
     "text": [
      "INFO:pypsa.io:Imported network elec_s_33_ec_lc1.0_Co2L_3H_2030_0.082_AP_100export.nc has buses, carriers, generators, global_constraints, lines, links, loads, stores\n"
     ]
    },
    {
     "name": "stdout",
     "output_type": "stream",
     "text": [
      "\n",
      " Utilization for export quantity 100 [TWh] : \n",
      "csp : 58.840699696498966 % \n",
      "rooftop-solar : 57.319938624753476 % \n",
      "solar : 73.66300702081388 % \n",
      "onwind : 71.259722233866 % \n",
      "onwind2 : 65.1455559948587 % \n",
      "offwind : 63.47850959263307 % \n",
      "offwind2 : 58.68633382761701 % \n",
      "ror : inf % \n"
     ]
    },
    {
     "name": "stderr",
     "output_type": "stream",
     "text": [
      "INFO:pypsa.io:Imported network elec_s_33_ec_lc1.0_Co2L_3H_2030_0.082_AP_200export.nc has buses, carriers, generators, global_constraints, lines, links, loads, stores\n"
     ]
    },
    {
     "name": "stdout",
     "output_type": "stream",
     "text": [
      "\n",
      " Utilization for export quantity 200 [TWh] : \n",
      "csp : 62.61655176461275 % \n",
      "rooftop-solar : 58.32626595071779 % \n",
      "solar : 65.05005123579419 % \n",
      "onwind : 71.71107588791438 % \n",
      "onwind2 : 64.64188261277894 % \n",
      "offwind : 61.641066664199606 % \n",
      "offwind2 : 57.53106093864992 % \n",
      "ror : inf % \n"
     ]
    }
   ],
   "source": [
    "for q in Q30:\n",
    "    n = pypsa.Network(\"/home/raj08555/dev/sandbox-cs/pypsa-earth-sec/results/{}/postnetworks/elec_s_{}_ec_lc1.0_Co2L_{}H_2030_{}_{}_{}export.nc\".format(run, cluster, timestep, ir, scenario,q))\n",
    "    print(\"\\n Utilization for export quantity {} [TWh] : \".format(q))\n",
    "    for tech in res_techs:\n",
    "        print('{} : {} % '.format(tech, float(calc_util(n, tech) *1e2)))"
   ]
  },
  {
   "cell_type": "markdown",
   "metadata": {},
   "source": [
    "### electrolyser capacity utilized"
   ]
  },
  {
   "cell_type": "code",
   "execution_count": 9,
   "metadata": {},
   "outputs": [],
   "source": [
    "def calc_elec_capa(n):\n",
    "\n",
    "    elec_cap = n.links.filter(like='Electrolysis', axis=0).p_nom_opt.sum() *8760\n",
    "    elec_output = n.links_t.p0.filter(like='Electrolysis').sum().sum() * float(timestep)\n",
    "\n",
    "    return elec_output / elec_cap"
   ]
  },
  {
   "cell_type": "code",
   "execution_count": 10,
   "metadata": {},
   "outputs": [
    {
     "name": "stderr",
     "output_type": "stream",
     "text": [
      "INFO:pypsa.io:Imported network elec_s_33_ec_lc1.0_Co2L_3H_2030_0.082_AP_1export.nc has buses, carriers, generators, global_constraints, lines, links, loads, stores\n"
     ]
    },
    {
     "name": "stdout",
     "output_type": "stream",
     "text": [
      "\n",
      " electrolyser capacity utilized for export quantity 1 [TWh] : \n",
      " \n",
      " 33.60488166475359 %\n"
     ]
    },
    {
     "name": "stderr",
     "output_type": "stream",
     "text": [
      "INFO:pypsa.io:Imported network elec_s_33_ec_lc1.0_Co2L_3H_2030_0.082_AP_5export.nc has buses, carriers, generators, global_constraints, lines, links, loads, stores\n"
     ]
    },
    {
     "name": "stdout",
     "output_type": "stream",
     "text": [
      "\n",
      " electrolyser capacity utilized for export quantity 5 [TWh] : \n",
      " \n",
      " 33.14216950334903 %\n"
     ]
    },
    {
     "name": "stderr",
     "output_type": "stream",
     "text": [
      "INFO:pypsa.io:Imported network elec_s_33_ec_lc1.0_Co2L_3H_2030_0.082_AP_10export.nc has buses, carriers, generators, global_constraints, lines, links, loads, stores\n"
     ]
    },
    {
     "name": "stdout",
     "output_type": "stream",
     "text": [
      "\n",
      " electrolyser capacity utilized for export quantity 10 [TWh] : \n",
      " \n",
      " 33.03658457948419 %\n"
     ]
    },
    {
     "name": "stderr",
     "output_type": "stream",
     "text": [
      "INFO:pypsa.io:Imported network elec_s_33_ec_lc1.0_Co2L_3H_2030_0.082_AP_100export.nc has buses, carriers, generators, global_constraints, lines, links, loads, stores\n"
     ]
    },
    {
     "name": "stdout",
     "output_type": "stream",
     "text": [
      "\n",
      " electrolyser capacity utilized for export quantity 100 [TWh] : \n",
      " \n",
      " 32.531683280498136 %\n"
     ]
    },
    {
     "name": "stderr",
     "output_type": "stream",
     "text": [
      "INFO:pypsa.io:Imported network elec_s_33_ec_lc1.0_Co2L_3H_2030_0.082_AP_200export.nc has buses, carriers, generators, global_constraints, lines, links, loads, stores\n"
     ]
    },
    {
     "name": "stdout",
     "output_type": "stream",
     "text": [
      "\n",
      " electrolyser capacity utilized for export quantity 200 [TWh] : \n",
      " \n",
      " 32.59028993464768 %\n"
     ]
    }
   ],
   "source": [
    "for q in Q30:\n",
    "    n = pypsa.Network(\"/home/raj08555/dev/sandbox-cs/pypsa-earth-sec/results/{}/postnetworks/elec_s_{}_ec_lc1.0_Co2L_{}H_2030_{}_{}_{}export.nc\".format(run, cluster, timestep, ir, scenario,q))\n",
    "    print(\"\\n electrolyser capacity utilized for export quantity {} [TWh] : \".format(q))\n",
    "    print(' \\n {} %'.format(calc_elec_capa(n) *1e2))"
   ]
  },
  {
   "cell_type": "markdown",
   "metadata": {},
   "source": [
    "### electrolyser capacity utilized at export location"
   ]
  },
  {
   "cell_type": "code",
   "execution_count": 11,
   "metadata": {},
   "outputs": [],
   "source": [
    "def calc_elec_capa_exp(n):\n",
    "\n",
    "    export_buses = n.links.loc[n.links.bus1 == 'H2 export bus', 'bus0'] + ' Electrolysis'\n",
    "\n",
    "    elec_cap = n.links.loc[export_buses].p_nom_opt.sum() *8760\n",
    "    elec_output = n.links_t.p0[export_buses].sum().sum() *  float(timestep)\n",
    "\n",
    "    return elec_output / elec_cap\n",
    " "
   ]
  },
  {
   "cell_type": "code",
   "execution_count": 12,
   "metadata": {},
   "outputs": [
    {
     "name": "stderr",
     "output_type": "stream",
     "text": [
      "INFO:pypsa.io:Imported network elec_s_33_ec_lc1.0_Co2L_3H_2030_0.082_AP_1export.nc has buses, carriers, generators, global_constraints, lines, links, loads, stores\n"
     ]
    },
    {
     "name": "stdout",
     "output_type": "stream",
     "text": [
      "\n",
      " electrolyser capacity utilized at export location for export quantity 1 [TWh] : \n",
      " \n",
      " 27.94023483885545 %\n"
     ]
    },
    {
     "name": "stderr",
     "output_type": "stream",
     "text": [
      "INFO:pypsa.io:Imported network elec_s_33_ec_lc1.0_Co2L_3H_2030_0.082_AP_5export.nc has buses, carriers, generators, global_constraints, lines, links, loads, stores\n"
     ]
    },
    {
     "name": "stdout",
     "output_type": "stream",
     "text": [
      "\n",
      " electrolyser capacity utilized at export location for export quantity 5 [TWh] : \n",
      " \n",
      " 32.92726489397963 %\n"
     ]
    },
    {
     "name": "stderr",
     "output_type": "stream",
     "text": [
      "INFO:pypsa.io:Imported network elec_s_33_ec_lc1.0_Co2L_3H_2030_0.082_AP_10export.nc has buses, carriers, generators, global_constraints, lines, links, loads, stores\n"
     ]
    },
    {
     "name": "stdout",
     "output_type": "stream",
     "text": [
      "\n",
      " electrolyser capacity utilized at export location for export quantity 10 [TWh] : \n",
      " \n",
      " 32.961462457814655 %\n"
     ]
    },
    {
     "name": "stderr",
     "output_type": "stream",
     "text": [
      "INFO:pypsa.io:Imported network elec_s_33_ec_lc1.0_Co2L_3H_2030_0.082_AP_100export.nc has buses, carriers, generators, global_constraints, lines, links, loads, stores\n"
     ]
    },
    {
     "name": "stdout",
     "output_type": "stream",
     "text": [
      "\n",
      " electrolyser capacity utilized at export location for export quantity 100 [TWh] : \n",
      " \n",
      " 32.48569612977039 %\n"
     ]
    },
    {
     "name": "stderr",
     "output_type": "stream",
     "text": [
      "INFO:pypsa.io:Imported network elec_s_33_ec_lc1.0_Co2L_3H_2030_0.082_AP_200export.nc has buses, carriers, generators, global_constraints, lines, links, loads, stores\n"
     ]
    },
    {
     "name": "stdout",
     "output_type": "stream",
     "text": [
      "\n",
      " electrolyser capacity utilized at export location for export quantity 200 [TWh] : \n",
      " \n",
      " 32.57966503312597 %\n"
     ]
    }
   ],
   "source": [
    "for q in Q30:\n",
    "    n = pypsa.Network(\"/home/raj08555/dev/sandbox-cs/pypsa-earth-sec/results/{}/postnetworks/elec_s_{}_ec_lc1.0_Co2L_{}H_2030_{}_{}_{}export.nc\".format(run, cluster, timestep, ir, scenario,q))\n",
    "    print(\"\\n electrolyser capacity utilized at export location for export quantity {} [TWh] : \".format(q))\n",
    "    print(' \\n {} %'.format(calc_elec_capa_exp(n) *1e2))"
   ]
  }
 ],
 "metadata": {
  "kernelspec": {
   "display_name": "Python 3.10.10 ('pypsa-earth')",
   "language": "python",
   "name": "python3"
  },
  "language_info": {
   "codemirror_mode": {
    "name": "ipython",
    "version": 3
   },
   "file_extension": ".py",
   "mimetype": "text/x-python",
   "name": "python",
   "nbconvert_exporter": "python",
   "pygments_lexer": "ipython3",
   "version": "3.10.10"
  },
  "orig_nbformat": 4,
  "vscode": {
   "interpreter": {
    "hash": "ce9b1886ff23ca88d020f1a81eb94f299cec504c0c2b3816c22f4ea26d1935b1"
   }
  }
 },
 "nbformat": 4,
 "nbformat_minor": 2
}
