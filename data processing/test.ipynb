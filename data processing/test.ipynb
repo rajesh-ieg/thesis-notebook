{
 "cells": [
  {
   "cell_type": "code",
   "execution_count": 3,
   "metadata": {},
   "outputs": [],
   "source": [
    "import pypsa\n",
    "import pandas as pd\n",
    "import numpy as np"
   ]
  },
  {
   "cell_type": "code",
   "execution_count": 2,
   "metadata": {},
   "outputs": [
    {
     "name": "stderr",
     "output_type": "stream",
     "text": [
      "INFO:pypsa.io:Imported network elec_s_30_ec_lc1.0_Co2L_3H_2030_0.076_AP_0export.nc has buses, carriers, generators, global_constraints, lines, links, loads, storage_units, stores\n",
      "INFO:pypsa.io:Imported network elec_s_30_ec_lc1.0_Co2L_3H_2030_0.076_AP_1export.nc has buses, carriers, generators, global_constraints, lines, links, loads, storage_units, stores\n",
      "INFO:pypsa.io:Imported network elec_s_30_ec_lc1.0_Co2L_3H_2030_0.076_AP_10export.nc has buses, carriers, generators, global_constraints, lines, links, loads, storage_units, stores\n",
      "INFO:pypsa.io:Imported network elec_s_30_ec_lc1.0_Co2L_3H_2030_0.076_AP_50export.nc has buses, carriers, generators, global_constraints, lines, links, loads, storage_units, stores\n",
      "INFO:pypsa.io:Imported network elec_s_30_ec_lc1.0_Co2L_3H_2030_0.076_AP_1000export.nc has buses, carriers, generators, global_constraints, lines, links, loads, storage_units, stores\n"
     ]
    }
   ],
   "source": [
    "n_ref = pypsa.Network(\"elec_s_30_ec_lc1.0_Co2L_3H_2030_0.076_AP_0export.nc\")\n",
    "n_1 = pypsa.Network(\"elec_s_30_ec_lc1.0_Co2L_3H_2030_0.076_AP_1export.nc\")\n",
    "n_10 = pypsa.Network(\"elec_s_30_ec_lc1.0_Co2L_3H_2030_0.076_AP_10export.nc\")\n",
    "n_50 = pypsa.Network(\"elec_s_30_ec_lc1.0_Co2L_3H_2030_0.076_AP_50export.nc\")\n",
    "n_1000 = pypsa.Network(\"elec_s_30_ec_lc1.0_Co2L_3H_2030_0.076_AP_1000export.nc\")"
   ]
  },
  {
   "cell_type": "code",
   "execution_count": 33,
   "metadata": {},
   "outputs": [
    {
     "data": {
      "text/plain": [
       "0.5752892741932514"
      ]
     },
     "execution_count": 33,
     "metadata": {},
     "output_type": "execute_result"
    }
   ],
   "source": [
    "def calc_util(n, tech):\n",
    "    \n",
    "    \n",
    "    tech_index = n.generators.loc[n.generators.carrier == tech].index\n",
    "\n",
    "\n",
    "    weightings = pd.DataFrame(\n",
    "        np.outer(n.snapshot_weightings[\"generators\"], [1.0] * len(tech_index)),\n",
    "        index=n.snapshots,\n",
    "        columns=tech_index,\n",
    "    )\n",
    "    \n",
    "    gen_tech = (n.generators_t.p.filter(regex='{}$'.format(tech)) * weightings).sum()\n",
    "    installed_cap = n.generators.p_nom_opt.filter(regex='{}$'.format(tech))\n",
    "    year_avail = (n.generators_t.p_max_pu.filter(regex='{}$'.format(tech)) * weightings ).sum()\n",
    "    \n",
    "    max_gen_solar=(installed_cap * year_avail)\n",
    "    \n",
    "    return (gen_tech/max_gen_solar).mean()\n",
    "    \n",
    "\n",
    "calc_util(n_10, 'solar')    \n",
    "calc_util(n_10, 'onwind')    "
   ]
  },
  {
   "cell_type": "code",
   "execution_count": 34,
   "metadata": {},
   "outputs": [
    {
     "data": {
      "text/plain": [
       "-0.008197035359922665"
      ]
     },
     "execution_count": 34,
     "metadata": {},
     "output_type": "execute_result"
    }
   ],
   "source": [
    "res_techs = [\n",
    "        \"csp\",\n",
    "        \"rooftop-solar\",\n",
    "        \"solar\",\n",
    "        \"onwind\",\n",
    "        \"onwind2\",\n",
    "        \"offwind\",\n",
    "        \"offwind2\",\n",
    "        \"ror\",\n",
    "    ]\n",
    "\n",
    "def calc_additional_res(n, n_ref, tech):\n",
    "\n",
    "    \n",
    "    res_index = n.generators.filter(regex='{}$'.format(tech), axis=0).index\n",
    "\n",
    "    res_cap = n.generators.p_nom_opt[res_index].sum()\n",
    "    res_cap_ref = n_ref.generators.p_nom_opt[res_index].sum()\n",
    "\n",
    "    return (res_cap - res_cap_ref) / 1e3\n",
    "\n",
    "calc_additional_res(n_10, n_ref, 'onwind')"
   ]
  },
  {
   "cell_type": "code",
   "execution_count": 35,
   "metadata": {},
   "outputs": [
    {
     "data": {
      "text/plain": [
       "10.099447628185153"
      ]
     },
     "execution_count": 35,
     "metadata": {},
     "output_type": "execute_result"
    }
   ],
   "source": [
    "calc_additional_res(n_10, n_ref, 'solar')"
   ]
  },
  {
   "cell_type": "code",
   "execution_count": 36,
   "metadata": {},
   "outputs": [
    {
     "name": "stdout",
     "output_type": "stream",
     "text": [
      "csp : 4.230682896447312e-06\n",
      "rooftop-solar : 1.700271989680979e-05\n",
      "solar : 0.9702934932609787\n",
      "onwind : 0.013841252930140399\n",
      "onwind2 : 8.325940600277505e-06\n",
      "offwind : 4.242823956183074e-06\n",
      "offwind2 : 3.851044028500124e-06\n",
      "ror : 0.0\n"
     ]
    }
   ],
   "source": [
    "for tech in res_techs:\n",
    "    print(tech + ' : '+ str(calc_additional_res(n_1, n_ref, tech)))"
   ]
  },
  {
   "cell_type": "code",
   "execution_count": 37,
   "metadata": {},
   "outputs": [
    {
     "name": "stdout",
     "output_type": "stream",
     "text": [
      "csp : 2.1784641883463435e-08\n",
      "rooftop-solar : 5.784584852341429e-06\n",
      "solar : 10.099447628185153\n",
      "onwind : -0.008197035359922665\n",
      "onwind2 : -1.0054709760231186e-05\n",
      "offwind : -4.842211148212317e-06\n",
      "offwind2 : -6.899294009048082e-07\n",
      "ror : 0.0\n"
     ]
    }
   ],
   "source": [
    "for tech in res_techs:\n",
    "    print(tech + ' : '+ str(calc_additional_res(n_10, n_ref, tech)))"
   ]
  },
  {
   "cell_type": "code",
   "execution_count": 38,
   "metadata": {},
   "outputs": [
    {
     "name": "stdout",
     "output_type": "stream",
     "text": [
      "csp : -2.1477519912377965e-06\n",
      "rooftop-solar : -5.947703189146114e-06\n",
      "solar : 50.266332121673095\n",
      "onwind : -0.09531109823949009\n",
      "onwind2 : -9.889991259146156e-06\n",
      "offwind : -5.0183704192519055e-06\n",
      "offwind2 : -3.3231414564877313e-06\n",
      "ror : 0.0\n"
     ]
    }
   ],
   "source": [
    "for tech in res_techs:\n",
    "    print(tech + ' : '+ str(calc_additional_res(n_50, n_ref, tech)))"
   ]
  },
  {
   "cell_type": "code",
   "execution_count": 39,
   "metadata": {},
   "outputs": [
    {
     "name": "stdout",
     "output_type": "stream",
     "text": [
      "csp : 2.419175331208022e-07\n",
      "rooftop-solar : -5.888825672863335e-06\n",
      "solar : 1062.1232620850017\n",
      "onwind : -5.946957078893039\n",
      "onwind2 : -1.3027065138763304e-05\n",
      "offwind : -5.773531871247278e-06\n",
      "offwind2 : -2.2176354774888634e-06\n",
      "ror : 0.0\n"
     ]
    }
   ],
   "source": [
    "for tech in res_techs:\n",
    "    print(tech + ' : '+ str(calc_additional_res(n_1000, n_ref, tech)))"
   ]
  },
  {
   "cell_type": "code",
   "execution_count": 40,
   "metadata": {},
   "outputs": [
    {
     "data": {
      "text/plain": [
       "0.21787638866114867"
      ]
     },
     "execution_count": 40,
     "metadata": {},
     "output_type": "execute_result"
    }
   ],
   "source": [
    "def calc_additional_elec(n, n_ref):\n",
    "\n",
    "    elec_cap = n.links.filter(like='Electrolysis', axis=0).p_nom_opt.sum()\n",
    "    res_cap_ref = n_ref.links.filter(like='Electrolysis', axis=0).p_nom_opt.sum()\n",
    "\n",
    "    return (elec_cap - res_cap_ref) / 1e3\n",
    "\n",
    "\n",
    "calc_additional_elec(n_1, n_ref)"
   ]
  },
  {
   "cell_type": "code",
   "execution_count": 41,
   "metadata": {},
   "outputs": [
    {
     "data": {
      "text/plain": [
       "3.9188446357426945"
      ]
     },
     "execution_count": 41,
     "metadata": {},
     "output_type": "execute_result"
    }
   ],
   "source": [
    "calc_additional_elec(n_10, n_ref)"
   ]
  },
  {
   "cell_type": "code",
   "execution_count": 42,
   "metadata": {},
   "outputs": [
    {
     "data": {
      "text/plain": [
       "20.815178573859356"
      ]
     },
     "execution_count": 42,
     "metadata": {},
     "output_type": "execute_result"
    }
   ],
   "source": [
    "calc_additional_elec(n_50, n_ref)"
   ]
  },
  {
   "cell_type": "code",
   "execution_count": 43,
   "metadata": {},
   "outputs": [
    {
     "data": {
      "text/plain": [
       "368.42433370195243"
      ]
     },
     "execution_count": 43,
     "metadata": {},
     "output_type": "execute_result"
    }
   ],
   "source": [
    "calc_additional_elec(n_1000, n_ref)"
   ]
  },
  {
   "cell_type": "code",
   "execution_count": 44,
   "metadata": {},
   "outputs": [
    {
     "name": "stdout",
     "output_type": "stream",
     "text": [
      "csp : 0.5605478741990101\n",
      "rooftop-solar : 0.6481263744924569\n",
      "solar : 0.9513813653653801\n",
      "onwind : 0.6121799281359066\n",
      "onwind2 : 0.5128333104774357\n",
      "offwind : 0.5526045893231663\n",
      "offwind2 : 0.556848043388617\n",
      "ror : inf\n"
     ]
    }
   ],
   "source": [
    "for tech in res_techs:\n",
    "    print('{} : {}'.format(tech, calc_util(n_1, tech)))"
   ]
  },
  {
   "cell_type": "code",
   "execution_count": 45,
   "metadata": {},
   "outputs": [
    {
     "name": "stdout",
     "output_type": "stream",
     "text": [
      "csp : 0.5169846505638388\n",
      "rooftop-solar : 0.6185562016453998\n",
      "solar : 0.9442287758620823\n",
      "onwind : 0.5752892741932514\n",
      "onwind2 : 0.4615331295983346\n",
      "offwind : 0.4741897065755268\n",
      "offwind2 : 0.5146707061844739\n",
      "ror : inf\n"
     ]
    }
   ],
   "source": [
    "for tech in res_techs:\n",
    "    print('{} : {}'.format(tech, calc_util(n_10, tech)))"
   ]
  },
  {
   "cell_type": "code",
   "execution_count": 46,
   "metadata": {},
   "outputs": [
    {
     "name": "stdout",
     "output_type": "stream",
     "text": [
      "csp : 0.5579265184313577\n",
      "rooftop-solar : 0.6532331543024901\n",
      "solar : 0.95119559979548\n",
      "onwind : 0.5976399736333219\n",
      "onwind2 : 0.48116287775190103\n",
      "offwind : 0.521003500414976\n",
      "offwind2 : 0.5554607954976702\n",
      "ror : inf\n"
     ]
    }
   ],
   "source": [
    "for tech in res_techs:\n",
    "    print('{} : {}'.format(tech, calc_util(n_50, tech)))"
   ]
  },
  {
   "cell_type": "code",
   "execution_count": 47,
   "metadata": {},
   "outputs": [
    {
     "name": "stdout",
     "output_type": "stream",
     "text": [
      "csp : 0.5704702034901293\n",
      "rooftop-solar : 0.6111801316635725\n",
      "solar : 0.9481614661079637\n",
      "onwind : 0.6006551779019075\n",
      "onwind2 : 0.46738038376480495\n",
      "offwind : 0.4985468476541269\n",
      "offwind2 : 0.5322104958618579\n",
      "ror : inf\n"
     ]
    }
   ],
   "source": [
    "for tech in res_techs:\n",
    "    print('{} : {}'.format(tech, calc_util(n_1000, tech)))"
   ]
  },
  {
   "cell_type": "code",
   "execution_count": 56,
   "metadata": {},
   "outputs": [
    {
     "data": {
      "text/plain": [
       "0.4169245649539059"
      ]
     },
     "execution_count": 56,
     "metadata": {},
     "output_type": "execute_result"
    }
   ],
   "source": [
    "def calc_elec_capa(n):\n",
    "\n",
    "    elec_cap = n.links.filter(like='Electrolysis', axis=0).p_nom_opt.sum() *8760\n",
    "    elec_output = n.links_t.p0.filter(like='Electrolysis').sum().sum() * 3\n",
    "\n",
    "    return elec_output / elec_cap\n",
    "calc_elec_capa(n_1)  "
   ]
  },
  {
   "cell_type": "code",
   "execution_count": 57,
   "metadata": {},
   "outputs": [
    {
     "data": {
      "text/plain": [
       "0.4138362439177809"
      ]
     },
     "execution_count": 57,
     "metadata": {},
     "output_type": "execute_result"
    }
   ],
   "source": [
    "calc_elec_capa(n_10)  "
   ]
  },
  {
   "cell_type": "code",
   "execution_count": 58,
   "metadata": {},
   "outputs": [
    {
     "data": {
      "text/plain": [
       "0.4061398074025122"
      ]
     },
     "execution_count": 58,
     "metadata": {},
     "output_type": "execute_result"
    }
   ],
   "source": [
    "calc_elec_capa(n_50)  "
   ]
  },
  {
   "cell_type": "code",
   "execution_count": 59,
   "metadata": {},
   "outputs": [
    {
     "data": {
      "text/plain": [
       "0.3825493675839524"
      ]
     },
     "execution_count": 59,
     "metadata": {},
     "output_type": "execute_result"
    }
   ],
   "source": [
    "calc_elec_capa(n_1000)  "
   ]
  },
  {
   "cell_type": "code",
   "execution_count": 69,
   "metadata": {},
   "outputs": [
    {
     "data": {
      "text/plain": [
       "0.4689551637830714"
      ]
     },
     "execution_count": 69,
     "metadata": {},
     "output_type": "execute_result"
    }
   ],
   "source": [
    "def calc_elec_capa_exp(n):\n",
    "\n",
    "    export_buses = n.links.loc[n.links.bus1 == 'H2 export bus', 'bus0'] + ' Electrolysis'\n",
    "\n",
    "    elec_cap = n.links.loc[export_buses].p_nom_opt.sum() *8760\n",
    "    elec_output = n.links_t.p0[export_buses].sum().sum() * 3\n",
    "\n",
    "    return elec_output / elec_cap\n",
    "calc_elec_capa_exp(n_1)  "
   ]
  },
  {
   "cell_type": "code",
   "execution_count": 70,
   "metadata": {},
   "outputs": [
    {
     "data": {
      "text/plain": [
       "0.41331740711677944"
      ]
     },
     "execution_count": 70,
     "metadata": {},
     "output_type": "execute_result"
    }
   ],
   "source": [
    "calc_elec_capa_exp(n_10)  "
   ]
  },
  {
   "cell_type": "code",
   "execution_count": 71,
   "metadata": {},
   "outputs": [
    {
     "data": {
      "text/plain": [
       "0.38098796155593445"
      ]
     },
     "execution_count": 71,
     "metadata": {},
     "output_type": "execute_result"
    }
   ],
   "source": [
    "calc_elec_capa_exp(n_1000)  "
   ]
  },
  {
   "cell_type": "code",
   "execution_count": 11,
   "metadata": {},
   "outputs": [
    {
     "ename": "KeyError",
     "evalue": "False",
     "output_type": "error",
     "traceback": [
      "\u001b[0;31m---------------------------------------------------------------------------\u001b[0m",
      "\u001b[0;31mKeyError\u001b[0m                                  Traceback (most recent call last)",
      "File \u001b[0;32m~/.conda/envs/pypsa-earth/lib/python3.10/site-packages/pandas/core/indexes/base.py:3652\u001b[0m, in \u001b[0;36mIndex.get_loc\u001b[0;34m(self, key)\u001b[0m\n\u001b[1;32m   3651\u001b[0m \u001b[39mtry\u001b[39;00m:\n\u001b[0;32m-> 3652\u001b[0m     \u001b[39mreturn\u001b[39;00m \u001b[39mself\u001b[39;49m\u001b[39m.\u001b[39;49m_engine\u001b[39m.\u001b[39;49mget_loc(casted_key)\n\u001b[1;32m   3653\u001b[0m \u001b[39mexcept\u001b[39;00m \u001b[39mKeyError\u001b[39;00m \u001b[39mas\u001b[39;00m err:\n",
      "File \u001b[0;32m~/.conda/envs/pypsa-earth/lib/python3.10/site-packages/pandas/_libs/index.pyx:147\u001b[0m, in \u001b[0;36mpandas._libs.index.IndexEngine.get_loc\u001b[0;34m()\u001b[0m\n",
      "File \u001b[0;32m~/.conda/envs/pypsa-earth/lib/python3.10/site-packages/pandas/_libs/index.pyx:176\u001b[0m, in \u001b[0;36mpandas._libs.index.IndexEngine.get_loc\u001b[0;34m()\u001b[0m\n",
      "File \u001b[0;32mpandas/_libs/hashtable_class_helper.pxi:7080\u001b[0m, in \u001b[0;36mpandas._libs.hashtable.PyObjectHashTable.get_item\u001b[0;34m()\u001b[0m\n",
      "File \u001b[0;32mpandas/_libs/hashtable_class_helper.pxi:7088\u001b[0m, in \u001b[0;36mpandas._libs.hashtable.PyObjectHashTable.get_item\u001b[0;34m()\u001b[0m\n",
      "\u001b[0;31mKeyError\u001b[0m: False",
      "\nThe above exception was the direct cause of the following exception:\n",
      "\u001b[0;31mKeyError\u001b[0m                                  Traceback (most recent call last)",
      "Cell \u001b[0;32mIn[11], line 10\u001b[0m\n\u001b[1;32m      5\u001b[0m geo_df \u001b[38;5;241m=\u001b[39m gpd\u001b[38;5;241m.\u001b[39mGeoDataFrame(df, \u001b[38;5;66;03m#specify our data\u001b[39;00m\n\u001b[1;32m      6\u001b[0m                         crs\u001b[38;5;241m=\u001b[39m\u001b[38;5;124m'\u001b[39m\u001b[38;5;124mepsg:4326\u001b[39m\u001b[38;5;124m'\u001b[39m, \u001b[38;5;66;03m#specify our coordinate reference system\u001b[39;00m\n\u001b[1;32m      7\u001b[0m                         geometry\u001b[38;5;241m=\u001b[39mgeometry) \u001b[38;5;66;03m#specify the geometry list we created   \u001b[39;00m\n\u001b[1;32m      8\u001b[0m geo_df\n\u001b[0;32m---> 10\u001b[0m geo_df \u001b[38;5;241m=\u001b[39m geo_df[\u001b[43mgeo_df\u001b[49m\u001b[43m[\u001b[49m\u001b[38;5;124;43m\"\u001b[39;49m\u001b[38;5;124;43mcountry\u001b[39;49m\u001b[38;5;124;43m\"\u001b[39;49m\u001b[38;5;241;43m==\u001b[39;49m\u001b[38;5;124;43m\"\u001b[39;49m\u001b[38;5;124;43mNA\u001b[39;49m\u001b[38;5;124;43m\"\u001b[39;49m\u001b[43m]\u001b[49m]\n",
      "File \u001b[0;32m~/.conda/envs/pypsa-earth/lib/python3.10/site-packages/geopandas/geodataframe.py:1475\u001b[0m, in \u001b[0;36mGeoDataFrame.__getitem__\u001b[0;34m(self, key)\u001b[0m\n\u001b[1;32m   1469\u001b[0m \u001b[39mdef\u001b[39;00m \u001b[39m__getitem__\u001b[39m(\u001b[39mself\u001b[39m, key):\n\u001b[1;32m   1470\u001b[0m \u001b[39m    \u001b[39m\u001b[39m\"\"\"\u001b[39;00m\n\u001b[1;32m   1471\u001b[0m \u001b[39m    If the result is a column containing only 'geometry', return a\u001b[39;00m\n\u001b[1;32m   1472\u001b[0m \u001b[39m    GeoSeries. If it's a DataFrame with any columns of GeometryDtype,\u001b[39;00m\n\u001b[1;32m   1473\u001b[0m \u001b[39m    return a GeoDataFrame.\u001b[39;00m\n\u001b[1;32m   1474\u001b[0m \u001b[39m    \"\"\"\u001b[39;00m\n\u001b[0;32m-> 1475\u001b[0m     result \u001b[39m=\u001b[39m \u001b[39msuper\u001b[39;49m()\u001b[39m.\u001b[39;49m\u001b[39m__getitem__\u001b[39;49m(key)\n\u001b[1;32m   1476\u001b[0m     \u001b[39m# Custom logic to avoid waiting for pandas GH51895\u001b[39;00m\n\u001b[1;32m   1477\u001b[0m     \u001b[39m# result is not geometry dtype for multi-indexes\u001b[39;00m\n\u001b[1;32m   1478\u001b[0m     \u001b[39mif\u001b[39;00m (\n\u001b[1;32m   1479\u001b[0m         pd\u001b[39m.\u001b[39mapi\u001b[39m.\u001b[39mtypes\u001b[39m.\u001b[39mis_scalar(key)\n\u001b[1;32m   1480\u001b[0m         \u001b[39mand\u001b[39;00m key \u001b[39m==\u001b[39m \u001b[39m\"\u001b[39m\u001b[39m\"\u001b[39m\n\u001b[0;32m   (...)\u001b[0m\n\u001b[1;32m   1483\u001b[0m         \u001b[39mand\u001b[39;00m \u001b[39mnot\u001b[39;00m is_geometry_type(result)\n\u001b[1;32m   1484\u001b[0m     ):\n",
      "File \u001b[0;32m~/.conda/envs/pypsa-earth/lib/python3.10/site-packages/pandas/core/frame.py:3761\u001b[0m, in \u001b[0;36mDataFrame.__getitem__\u001b[0;34m(self, key)\u001b[0m\n\u001b[1;32m   3759\u001b[0m \u001b[39mif\u001b[39;00m \u001b[39mself\u001b[39m\u001b[39m.\u001b[39mcolumns\u001b[39m.\u001b[39mnlevels \u001b[39m>\u001b[39m \u001b[39m1\u001b[39m:\n\u001b[1;32m   3760\u001b[0m     \u001b[39mreturn\u001b[39;00m \u001b[39mself\u001b[39m\u001b[39m.\u001b[39m_getitem_multilevel(key)\n\u001b[0;32m-> 3761\u001b[0m indexer \u001b[39m=\u001b[39m \u001b[39mself\u001b[39;49m\u001b[39m.\u001b[39;49mcolumns\u001b[39m.\u001b[39;49mget_loc(key)\n\u001b[1;32m   3762\u001b[0m \u001b[39mif\u001b[39;00m is_integer(indexer):\n\u001b[1;32m   3763\u001b[0m     indexer \u001b[39m=\u001b[39m [indexer]\n",
      "File \u001b[0;32m~/.conda/envs/pypsa-earth/lib/python3.10/site-packages/pandas/core/indexes/base.py:3654\u001b[0m, in \u001b[0;36mIndex.get_loc\u001b[0;34m(self, key)\u001b[0m\n\u001b[1;32m   3652\u001b[0m     \u001b[39mreturn\u001b[39;00m \u001b[39mself\u001b[39m\u001b[39m.\u001b[39m_engine\u001b[39m.\u001b[39mget_loc(casted_key)\n\u001b[1;32m   3653\u001b[0m \u001b[39mexcept\u001b[39;00m \u001b[39mKeyError\u001b[39;00m \u001b[39mas\u001b[39;00m err:\n\u001b[0;32m-> 3654\u001b[0m     \u001b[39mraise\u001b[39;00m \u001b[39mKeyError\u001b[39;00m(key) \u001b[39mfrom\u001b[39;00m \u001b[39merr\u001b[39;00m\n\u001b[1;32m   3655\u001b[0m \u001b[39mexcept\u001b[39;00m \u001b[39mTypeError\u001b[39;00m:\n\u001b[1;32m   3656\u001b[0m     \u001b[39m# If we have a listlike key, _check_indexing_error will raise\u001b[39;00m\n\u001b[1;32m   3657\u001b[0m     \u001b[39m#  InvalidIndexError. Otherwise we fall through and re-raise\u001b[39;00m\n\u001b[1;32m   3658\u001b[0m     \u001b[39m#  the TypeError.\u001b[39;00m\n\u001b[1;32m   3659\u001b[0m     \u001b[39mself\u001b[39m\u001b[39m.\u001b[39m_check_indexing_error(key)\n",
      "\u001b[0;31mKeyError\u001b[0m: False"
     ]
    }
   ],
   "source": [
    "import geopandas as gpd\n",
    "df = pd.read_csv(\"/home/raj08555/dev/sandbox-cs/pypsa-earth-sec/data/export_ports.csv\", keep_default_na=False,\n",
    "        na_values=[\"\"])\n",
    "geometry = gpd.points_from_xy(df.y, df.x)\n",
    "geo_df = gpd.GeoDataFrame(df, #specify our data\n",
    "                        crs='epsg:4326', #specify our coordinate reference system\n",
    "                        geometry=geometry) #specify the geometry list we created   \n",
    "#geo_df\n",
    "\n",
    "geo_df = geo_df[geo_df[\"country\"==\"NA\"]]"
   ]
  }
 ],
 "metadata": {
  "kernelspec": {
   "display_name": "Python 3.10.10 ('pypsa-earth')",
   "language": "python",
   "name": "python3"
  },
  "language_info": {
   "codemirror_mode": {
    "name": "ipython",
    "version": 3
   },
   "file_extension": ".py",
   "mimetype": "text/x-python",
   "name": "python",
   "nbconvert_exporter": "python",
   "pygments_lexer": "ipython3",
   "version": "3.10.10"
  },
  "orig_nbformat": 4,
  "vscode": {
   "interpreter": {
    "hash": "ce9b1886ff23ca88d020f1a81eb94f299cec504c0c2b3816c22f4ea26d1935b1"
   }
  }
 },
 "nbformat": 4,
 "nbformat_minor": 2
}
