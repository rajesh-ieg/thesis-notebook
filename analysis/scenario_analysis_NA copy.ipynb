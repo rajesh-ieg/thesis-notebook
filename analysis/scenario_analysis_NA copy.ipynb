{
 "cells": [
  {
   "cell_type": "markdown",
   "id": "7f305a82",
   "metadata": {},
   "source": [
    "### Namibian power network generated from PyPSA-Earth-Sec - an open energy system optimization model\n",
    "\n",
    "scenario configuration options : optimistic, realistic, conservative\n",
    "\n",
    "References : \n",
    "\n",
    "For more information on the model, refer to the following sources.\n",
    "\n",
    "[pypsa-earth-sec](https://github.com/pypsa-meets-earth/pypsa-earth-sec) on GitHub.\n",
    "\n",
    "check [documentation](https://github.com/pypsa-meets-earth/documentation) for [pypsa-earth](https://github.com/pypsa-meets-earth/pypsa-earth) relation information.\n",
    "\n",
    "see [pypsa-meets-earth](https://github.com/pypsa-meets-earth), 2023) project on GitHub. \n"
   ]
  },
  {
   "cell_type": "markdown",
   "id": "f9befb8d",
   "metadata": {},
   "source": [
    "### Import packages"
   ]
  },
  {
   "cell_type": "code",
   "execution_count": null,
   "id": "f48205a1",
   "metadata": {},
   "outputs": [],
   "source": [
    "#Import packages\n",
    "import os\n",
    "import sys\n",
    "import logging\n",
    "import pypsa\n",
    "import yaml\n",
    "import pandas as pd\n",
    "import geopandas as gpd\n",
    "import numpy as np\n",
    "import scipy as sp\n",
    "import networkx as nx\n",
    "import matplotlib.pyplot as plt\n",
    "import cartopy.crs as ccrs\n",
    "from cartopy.io.img_tiles import OSM\n",
    "import cartopy.feature as cfeature\n",
    "\n",
    "from scipy.sparse import csgraph\n",
    "from itertools import product\n",
    "import re\n",
    "\n",
    "from shapely.geometry import Point, LineString\n",
    "import shapely, shapely.prepared\n",
    "from shapely.wkt import loads\n",
    "from shapely.validation import make_valid\n",
    "\n",
    "logger = logging.getLogger(__name__)\n",
    "\n",
    "pd.set_option(\"display.max_columns\", None)\n",
    "pd.set_option(\"display.max_colwidth\", 70)\n",
    "#for solved network plot\n",
    "\n",
    "from matplotlib.patches import Circle, Ellipse\n",
    "from matplotlib.legend_handler import HandlerPatch\n",
    "from pypsa.plot import add_legend_circles, add_legend_lines, add_legend_patches\n",
    "plt.style.use(\"bmh\")\n",
    "\n",
    "import seaborn as sns\n",
    "import matplotlib.pyplot as plt\n",
    "sns.set_theme(style=\"whitegrid\", font_scale=1)"
   ]
  },
  {
   "cell_type": "markdown",
   "id": "945748e4",
   "metadata": {},
   "source": [
    "### Node query"
   ]
  },
  {
   "cell_type": "code",
   "execution_count": null,
   "id": "8f526d9a",
   "metadata": {},
   "outputs": [],
   "source": [
    "n = pypsa.Network(\"/home/raj08555/dev/sandbox-cs/pypsa-earth-sec/results/MT_real30/postnetworks/elec_s_30_ec_lc1.0_Co2L_12H_2030_0.082_AP_538export.nc\") # keep the .nc file in same directory as the script\n",
    "\n",
    "c = n.buses\n",
    "g = n.generators\n",
    "g_t = n.generators_t\n",
    "\n"
   ]
  },
  {
   "cell_type": "code",
   "execution_count": null,
   "id": "0ee5e2d1",
   "metadata": {},
   "outputs": [],
   "source": [
    "nam=pd.read_csv(\"/home/raj08555/dev/thesis-notebook/analysis/Namibia_bus_region_constituencies.csv\")\n",
    "#nam.set_index(\"Bus name\")\n",
    "nam"
   ]
  },
  {
   "cell_type": "code",
   "execution_count": null,
   "id": "cc5b3289",
   "metadata": {},
   "outputs": [],
   "source": [
    "n.stores_t['e']['co2 atmosphere'].max()"
   ]
  },
  {
   "cell_type": "code",
   "execution_count": null,
   "id": "4b75597e",
   "metadata": {},
   "outputs": [],
   "source": [
    "%run -i ../functions/helper_functions.ipynb\n",
    "n.links.drop(\n",
    "        n.links.index[(n.links.carrier != \"DC\") & (n.links.carrier != \"B2B\")],\n",
    "        inplace=True,\n",
    "    )\n",
    "#plot_network(n)\n",
    "#n.plot()"
   ]
  },
  {
   "cell_type": "code",
   "execution_count": null,
   "id": "25b93df4",
   "metadata": {},
   "outputs": [],
   "source": [
    "#n.carriers"
   ]
  },
  {
   "cell_type": "markdown",
   "id": "8dc06182",
   "metadata": {},
   "source": [
    "### maximum installable capacity"
   ]
  },
  {
   "cell_type": "code",
   "execution_count": null,
   "id": "cfff33b8",
   "metadata": {},
   "outputs": [],
   "source": [
    "\n",
    "def high_node_cap(n, tech):\n",
    "    s_max = n.generators.filter(regex='{}$'.format(tech), axis=0).p_nom_max.max()\n",
    "    bus = n.generators.filter(regex='{}$'.format(tech), axis=0).loc[n.generators.filter(regex='{}$'.format(tech), axis=0).p_nom_max==s_max]\n",
    "    print(\"\\n Highest maximum installable capacity node for {}:\".format(tech))\n",
    "    bus[\"region\"] =nam[nam[\"bus_region\"] == bus.bus.values[0]][\"name\"].values[0]\n",
    "    bus[\"p_nom_max\"] = bus[\"p_nom_max\"]*1e-3\n",
    "    return bus[[\"bus\", \"p_nom_max\", \"region\"]]"
   ]
  },
  {
   "cell_type": "code",
   "execution_count": null,
   "id": "17f2dd01",
   "metadata": {},
   "outputs": [],
   "source": [
    "high_node_cap(n, \"solar\")"
   ]
  },
  {
   "cell_type": "code",
   "execution_count": null,
   "id": "dcf3ddb7",
   "metadata": {},
   "outputs": [],
   "source": [
    "high_node_cap(n, \"wind\")"
   ]
  },
  {
   "cell_type": "code",
   "execution_count": null,
   "id": "944225b2",
   "metadata": {},
   "outputs": [],
   "source": [
    "high_node_cap(n, \"ror\")"
   ]
  },
  {
   "cell_type": "markdown",
   "id": "ea0e9084",
   "metadata": {},
   "source": [
    "### Maximum installed capacity"
   ]
  },
  {
   "cell_type": "code",
   "execution_count": null,
   "id": "8ec653d2",
   "metadata": {},
   "outputs": [],
   "source": [
    "def high_node_in(n, tech):\n",
    "    s_max = n.generators.filter(regex='{}$'.format(tech), axis=0).p_nom_opt.max()\n",
    "    bus = n.generators.filter(regex='{}$'.format(tech), axis=0).loc[n.generators.filter(regex='{}$'.format(tech), axis=0).p_nom_opt==s_max]\n",
    "    print(\"\\n Maximum installed capacity node:\")\n",
    "    bus[\"region\"] = nam[nam[\"bus_region\"] == bus.bus.values[0]][\"name\"].values[0]\n",
    "    bus[\"p_nom_opt\"] = bus[\"p_nom_opt\"]*1e-3\n",
    "    print(str(bus.bus.values))\n",
    "    return(bus[[\"bus\", \"p_nom_opt\", \"region\"]])"
   ]
  },
  {
   "cell_type": "code",
   "execution_count": null,
   "id": "acca3645",
   "metadata": {},
   "outputs": [],
   "source": [
    "high_node_in(n, \"solar\")"
   ]
  },
  {
   "cell_type": "code",
   "execution_count": null,
   "id": "70e69e59",
   "metadata": {},
   "outputs": [],
   "source": [
    "high_node_in(n, \"wind\")"
   ]
  },
  {
   "cell_type": "code",
   "execution_count": null,
   "id": "72aa412f",
   "metadata": {},
   "outputs": [],
   "source": [
    "timestep=12"
   ]
  },
  {
   "cell_type": "code",
   "execution_count": null,
   "id": "2708241c",
   "metadata": {},
   "outputs": [],
   "source": [
    "\n",
    "# =============================================================================\n",
    "# #Max Generated solar power\n",
    "# =============================================================================\n",
    "def generated_node(n, tech):\n",
    "      #p_max_pu = g_t['p']\n",
    "      bus = n.generators_t.p.filter(regex='{}$'.format(tech), axis=1).sum(axis=0)\n",
    "      busid = n.generators_t.p.filter(regex='{}$'.format(tech), axis=1).sum(axis=0).idxmax()\n",
    "      busgen= n.generators_t.p.filter(regex='{}$'.format(tech), axis=1).sum(axis=0).sum(axis=0).max()*timestep * 1e-6\n",
    "      return bus #nam[nam[\"bus_region\"] == str.strip(busid)][\"name\"].values]\n",
    "      # bus[\"region\"] = nam[nam[\"bus_region\"] == bus.bus.values[0]][\"name\"].values[0]\n",
    "      # print('\\n \\n maximum solar energy is generated at node \\n ' + \n",
    "      #       str(bus.sum(axis=0).idxmax()) + ' is ' + str(bus.sum(axis=0).max()*24) + ' MWh')"
   ]
  },
  {
   "cell_type": "code",
   "execution_count": null,
   "id": "517e6a4d",
   "metadata": {},
   "outputs": [],
   "source": [
    "generated_node(n, \"solar\")"
   ]
  },
  {
   "cell_type": "code",
   "execution_count": null,
   "id": "4be40659",
   "metadata": {},
   "outputs": [],
   "source": [
    "# =============================================================================\n",
    "# #Max generated wind power\n",
    "# =============================================================================\n",
    "p_max_pu = g_t['p']\n",
    "y = p_max_pu.filter(regex='wind$', axis=1)\n",
    "print('\\n \\n maximum wind energy generated at node \\n' + \n",
    "      str(y.sum(axis=0).idxmax()) + ' is ' + str(y.sum(axis=0).max()*24) + ' MWh')"
   ]
  },
  {
   "cell_type": "markdown",
   "id": "e15a76ae",
   "metadata": {},
   "source": [
    "### Timestep Query"
   ]
  },
  {
   "cell_type": "code",
   "execution_count": null,
   "id": "7a898a8f",
   "metadata": {},
   "outputs": [],
   "source": [
    "\n",
    "# =============================================================================\n",
    "# # timestep with highest solar generation\n",
    "# =============================================================================\n",
    "solar_gen_max = g_t['p'].filter(regex='solar$', axis=1).max()\n",
    "solar_gen_max_t = g_t['p'].filter(like=solar_gen_max.idxmax(), axis=1).idxmax()\n",
    "print(\"\\n \\n Highest solar generation timestep: \\n\")\n",
    "print(str(solar_gen_max_t[0]) +\"   \"+ str(solar_gen_max.max()*24) + \" MWh\")\n",
    "\n",
    "# =============================================================================\n",
    "# # timestep with lowest solar generation\n",
    "# =============================================================================\n",
    "solar_gen_min = g_t['p'].filter(regex='solar$', axis=1).min()\n",
    "solar_gen_min_t = g_t['p'].filter(like=solar_gen_min.idxmin(), axis=1).idxmin()\n",
    "print(\"\\n \\n Lowest solar generation timestep: \\n\")\n",
    "print(str(solar_gen_min_t[0]) +\"   \"+ str(solar_gen_min.min()*24) + \" MWh\")\n"
   ]
  },
  {
   "cell_type": "code",
   "execution_count": null,
   "id": "e7eb1dfb",
   "metadata": {},
   "outputs": [],
   "source": [
    "\n",
    "# =============================================================================\n",
    "# # timeste with highest wind capacity\n",
    "# =============================================================================\n",
    "# =============================================================================\n",
    "wind_gen_max = g_t['p'].filter(regex='wind$', axis=1).max()\n",
    "wind_gen_max_t = g_t['p'].filter(like=wind_gen_max.idxmax(), axis=1).idxmax()\n",
    "print(\"\\n \\n Highest wind generation timestep: \\n\")\n",
    "print(str(wind_gen_max_t[0]) +\"   \"+ str(wind_gen_max.max()*24) + \" MWh\")\n",
    "\n",
    "# =============================================================================\n",
    "# # timestep with lowest wind generation\n",
    "# =============================================================================\n",
    "wind_gen_min = g_t['p'].filter(regex='wind$', axis=1).min()\n",
    "wind_gen_min_t = g_t['p'].filter(like=wind_gen_min.idxmin(), axis=1).idxmin()\n",
    "print(\"\\n \\n Lowest solar generation timestep: \\n\")\n",
    "print(str(wind_gen_min_t[0]) +\"   \"+ str(wind_gen_min.min()*24) + \" MWh\")"
   ]
  },
  {
   "cell_type": "code",
   "execution_count": null,
   "id": "3c943ce0",
   "metadata": {},
   "outputs": [],
   "source": [
    "#=============================================================================\n",
    "\n",
    "# =============================================================================\n",
    "# # timestep with highest demand overall\n",
    "# =============================================================================\n",
    "load = n.loads_t['p']\n",
    "load_max = load.filter(like=load.max().idxmax(), axis=1)\n",
    "\n",
    "print(\"\\n \\n highest demand overall timestep:\")\n",
    "print(str(load_max.idxmax().max()) +\"   \" + str(load_max.max().max()*24) + ' MWh')\n",
    "#=============================================================================\n",
    "\n",
    "# =============================================================================\n",
    "# # timestep with lowest demand overall\n",
    "# =============================================================================\n",
    "load_min = load.filter(like=load.min().idxmin(), axis=1)\n",
    "\n",
    "print(\"\\n \\n lowest demand overall timestep:\")\n",
    "print(str(load_min.idxmin().min()) +\"   \" + str(load_min.min().min()*24) + ' MWh')\n"
   ]
  },
  {
   "cell_type": "markdown",
   "id": "b7a5a9ca",
   "metadata": {},
   "source": [
    "### Node-demand"
   ]
  },
  {
   "cell_type": "code",
   "execution_count": null,
   "id": "5a793869",
   "metadata": {},
   "outputs": [],
   "source": [
    "\n",
    "# =============================================================================\n",
    "# #Node with Largest electrolyzer capacity\n",
    "# =============================================================================\n",
    "\n",
    "print(\"\\n \\n Largest electrolyzer capacity node:\")\n",
    "\n",
    "print(n.stores.filter(like='H2', axis=0)['e_nom_opt'].idxmax())\n",
    "print(n.stores.filter(like='H2', axis=0)['e_nom_opt'].max())\n",
    "\n",
    "# =============================================================================\n",
    "# #Node with Smallest electrolyzer capacity\n",
    "# =============================================================================\n",
    "\n",
    "print(\"\\n \\n Smallest electrolyzer capacity node:\")\n",
    "\n",
    "print(n.stores.filter(like='H2', axis=0)['e_nom_opt'].idxmin())\n",
    "print(n.stores.filter(like='H2', axis=0)['e_nom_opt'].min())\n"
   ]
  },
  {
   "cell_type": "code",
   "execution_count": null,
   "id": "f16f8bcb",
   "metadata": {},
   "outputs": [],
   "source": [
    "n.stores.filter(like='H2', axis=0)['e_nom_opt']"
   ]
  },
  {
   "cell_type": "code",
   "execution_count": null,
   "id": "c3c68371",
   "metadata": {},
   "outputs": [],
   "source": [
    "\n",
    "# =============================================================================\n",
    "# #Node with Largest direct air capture capacity\n",
    "# =============================================================================\n",
    "\n",
    "print(\"\\n \\n Largest direct air capture capacity node:\")\n",
    "\n",
    "print(n.stores.filter(like='co2 stor', axis=0)['e_nom_opt'].idxmax())\n",
    "print(n.stores.filter(like='co2 stor', axis=0)['e_nom_opt'].max())\n",
    "\n",
    "# =============================================================================\n",
    "# #Node with Smallest direct air capture capacity\n",
    "# =============================================================================\n",
    "\n",
    "print(\"\\n \\n Smallest direct air capture capacity node:\")\n",
    "\n",
    "print(n.stores.filter(like='co2 stor', axis=0)['e_nom_opt'].idxmin())\n",
    "print(n.stores.filter(like='co2 stor', axis=0)['e_nom_opt'].min())\n"
   ]
  },
  {
   "cell_type": "code",
   "execution_count": null,
   "id": "02873d1b",
   "metadata": {},
   "outputs": [],
   "source": [
    "\n",
    "# =============================================================================\n",
    "# #Node with Largest overall land transport demand (EV)\n",
    "# =============================================================================\n",
    "load = n.loads_t['p']\n",
    "print(\"\\n \\n Largest overall land transport demand (EV) node:\")\n",
    "print(load.filter(like='land transport EV', axis=1).sum().idxmax())\n",
    "print(load.filter(like='land transport EV', axis=1).sum().max()*24)\n"
   ]
  },
  {
   "cell_type": "code",
   "execution_count": null,
   "id": "3a34ef8c",
   "metadata": {},
   "outputs": [],
   "source": [
    "\n",
    "# =============================================================================\n",
    "# #Node with Largest overall land transport demand (Fuel cell) node\n",
    "# =============================================================================\n",
    "\n",
    "print(\"\\n \\n Largest overall land transport demand (Fuel cell) node:\")\n",
    "#print(load.filter(like='land transport fuel cell', axis=1).sum().idxmax())\n",
    "print(load.filter(like='land transport fuel cell', axis=1).sum().max()*24)"
   ]
  },
  {
   "cell_type": "code",
   "execution_count": null,
   "id": "66414f43",
   "metadata": {},
   "outputs": [],
   "source": [
    "\n",
    "# =============================================================================\n",
    "# #Node with Highest aggregate hydro generation node\n",
    "# =============================================================================\n",
    "\n",
    "print(\"\\n \\n Highest aggregate hydro generation node\")\n",
    "#print(n.storage_units_t['p'].filter(like='hydro', axis=1).sum().idxmax())\n",
    "print(n.storage_units_t['p'].filter(like='hydro', axis=1).sum().max()*24)"
   ]
  },
  {
   "cell_type": "code",
   "execution_count": null,
   "id": "c3688529",
   "metadata": {},
   "outputs": [],
   "source": [
    "\n",
    "# =============================================================================\n",
    "# #Node with Highest h2 demand for industry\n",
    "# =============================================================================\n",
    "\n",
    "print(\"\\n \\n Highest h2 demand for industry node:\")\n",
    "print(load.filter(like='H2 for industry', axis=1).sum().idxmax())\n",
    "print(load.filter(like='H2 for industry', axis=1).sum().max()*24)"
   ]
  },
  {
   "cell_type": "markdown",
   "id": "0c573c0d",
   "metadata": {},
   "source": [
    "## Node pipeline"
   ]
  },
  {
   "cell_type": "code",
   "execution_count": null,
   "id": "81f0cee8",
   "metadata": {},
   "outputs": [],
   "source": [
    "\n",
    "# =============================================================================\n",
    "# #Largest capacity pipeline\n",
    "# =============================================================================\n",
    "print(\"\\n \\n Largest capacity pipeline:\")\n",
    "print(n.links.filter(like='pipeline', axis=0).p_nom_opt.idxmax())\n",
    "print(n.links.filter(like='pipeline', axis=0).p_nom_opt.max())\n",
    "\n",
    "# =============================================================================\n",
    "# # 3rd Largest capacity pipeline\n",
    "# =============================================================================\n",
    "print(\"\\n \\n 3rd Largest capacity pipeline:\")\n",
    "print(n.links.filter(like='pipeline', axis=0).nlargest(3,'p_nom_opt').index[2])\n",
    "print(n.links.filter(like='pipeline', axis=0).nlargest(3,'p_nom_opt').p_nom_opt.iloc[2])\n",
    "\n",
    "# =============================================================================\n",
    "# #Lowest capacity pipeline\n",
    "# =============================================================================\n",
    "print(\"\\n \\n Lowest capacity pipeline:\")\n",
    "print(n.links.filter(like='pipeline', axis=0).p_nom_opt.idxmin())\n",
    "print(n.links.filter(like='pipeline', axis=0).p_nom_opt.min())\n"
   ]
  }
 ],
 "metadata": {
  "kernelspec": {
   "display_name": "Python 3.10.9 ('pypsa-earth')",
   "language": "python",
   "name": "python3"
  },
  "language_info": {
   "codemirror_mode": {
    "name": "ipython",
    "version": 3
   },
   "file_extension": ".py",
   "mimetype": "text/x-python",
   "name": "python",
   "nbconvert_exporter": "python",
   "pygments_lexer": "ipython3",
   "version": "3.10.10"
  },
  "vscode": {
   "interpreter": {
    "hash": "ce9b1886ff23ca88d020f1a81eb94f299cec504c0c2b3816c22f4ea26d1935b1"
   }
  }
 },
 "nbformat": 4,
 "nbformat_minor": 5
}
