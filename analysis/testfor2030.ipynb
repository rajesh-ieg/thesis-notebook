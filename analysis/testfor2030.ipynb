{
 "cells": [
  {
   "cell_type": "code",
   "execution_count": 17,
   "metadata": {},
   "outputs": [],
   "source": [
    "%run -i ../functions/load_packages.ipynb\n",
    "%run -i ../functions/helper_functions.ipynb"
   ]
  },
  {
   "cell_type": "code",
   "execution_count": 18,
   "metadata": {},
   "outputs": [],
   "source": [
    "def unavoidable_emissions(n, timestep):\n",
    "    print(\"unavoidable emissions :\", str(n.loads_t.p.filter(like=\"emission\").sum().sum()*timestep/1e6))"
   ]
  },
  {
   "cell_type": "code",
   "execution_count": 19,
   "metadata": {},
   "outputs": [],
   "source": [
    "def emissions_share(n):\n",
    "    print(\"Conventions Generator emissions :\", str(gen_emissions(n))) \n",
    "    print(\"Co2 atmosphere:\", str(n.stores_t.e.filter(like=\"co2 atmosphere\").iloc[-1]/1e6))\n",
    "    print(\"Total:\", str(gen_emissions(n) + n.stores_t.e.filter(like=\"co2 atmosphere\").iloc[-1]/1e6))"
   ]
  },
  {
   "cell_type": "code",
   "execution_count": 20,
   "metadata": {},
   "outputs": [],
   "source": [
    "n = pypsa.Network(\"/home/raj08555/dev/sandbox-cs/pypsa-earth-sec/results/MT_opt30/prenetworks/elec_s_30_ec_lc1.0_Co2L_3H_2030_0.076_NZ_0export.nc\")"
   ]
  },
  {
   "cell_type": "code",
   "execution_count": 21,
   "metadata": {},
   "outputs": [
    {
     "data": {
      "text/plain": [
       "Generator\n",
       "NAM10_AC solar     8.970854\n",
       "NAM11_AC solar    11.128854\n",
       "NAM12_AC solar     3.573265\n",
       "NAM13_AC solar     0.000000\n",
       "NAM14_AC solar     1.021111\n",
       "NAM15_AC solar     4.195579\n",
       "NAM16_AC solar     2.711608\n",
       "NAM17_AC solar     0.000000\n",
       "NAM18_AC solar     0.000000\n",
       "NAM19_AC solar     6.422356\n",
       "NAM1_AC solar      0.000000\n",
       "NAM20_AC solar    13.596370\n",
       "NAM22_AC solar     1.850239\n",
       "NAM23_AC solar     3.627193\n",
       "NAM24_AC solar     0.498061\n",
       "NAM25_AC solar     2.760357\n",
       "NAM26_AC solar     7.443616\n",
       "NAM27_AC solar     0.214651\n",
       "NAM28_AC solar    12.158273\n",
       "NAM29_AC solar     1.637223\n",
       "NAM2_AC solar      0.124764\n",
       "NAM30_AC solar    20.720959\n",
       "NAM3_AC solar      2.947185\n",
       "NAM4_AC solar      1.272432\n",
       "NAM5_AC solar      6.610727\n",
       "NAM6_AC solar     18.326926\n",
       "NAM7_AC solar      0.817673\n",
       "NAM8_AC solar     11.987433\n",
       "NAM9_AC solar      0.000000\n",
       "Name: p_nom, dtype: float64"
      ]
     },
     "execution_count": 21,
     "metadata": {},
     "output_type": "execute_result"
    }
   ],
   "source": [
    "n.generators.loc[n.generators.carrier==\"solar\"].p_nom"
   ]
  },
  {
   "cell_type": "code",
   "execution_count": 22,
   "metadata": {},
   "outputs": [
    {
     "name": "stdout",
     "output_type": "stream",
     "text": [
      "unavoidable emissions : 0.0\n"
     ]
    }
   ],
   "source": [
    "unavoidable_emissions(n, 3)"
   ]
  },
  {
   "cell_type": "code",
   "execution_count": 23,
   "metadata": {},
   "outputs": [
    {
     "ename": "KeyError",
     "evalue": "\"None of [Index(['NAM14_AC oil', 'NAM20_AC oil', 'NAM9_AC coal', 'NAM10_AC gas',\\n       'NAM11_AC gas', 'NAM12_AC gas', 'NAM13_AC gas', 'NAM14_AC gas',\\n       'NAM15_AC gas', 'NAM16_AC gas', 'NAM17_AC gas', 'NAM18_AC gas',\\n       'NAM19_AC gas', 'NAM1_AC gas', 'NAM20_AC gas', 'NAM22_AC gas',\\n       'NAM23_AC gas', 'NAM24_AC gas', 'NAM25_AC gas', 'NAM26_AC gas',\\n       'NAM27_AC gas', 'NAM28_AC gas', 'NAM29_AC gas', 'NAM2_AC gas',\\n       'NAM30_AC gas', 'NAM3_AC gas', 'NAM4_AC gas', 'NAM5_AC gas',\\n       'NAM6_AC gas', 'NAM7_AC gas', 'NAM8_AC gas', 'NAM9_AC gas'],\\n      dtype='object', name='Generator')] are in the [columns]\"",
     "output_type": "error",
     "traceback": [
      "\u001b[0;31m---------------------------------------------------------------------------\u001b[0m",
      "\u001b[0;31mKeyError\u001b[0m                                  Traceback (most recent call last)",
      "Cell \u001b[0;32mIn[23], line 1\u001b[0m\n\u001b[0;32m----> 1\u001b[0m \u001b[43memissions_share\u001b[49m\u001b[43m(\u001b[49m\u001b[43mn\u001b[49m\u001b[43m)\u001b[49m\n",
      "Cell \u001b[0;32mIn[19], line 2\u001b[0m, in \u001b[0;36memissions_share\u001b[0;34m(n)\u001b[0m\n\u001b[1;32m      1\u001b[0m \u001b[38;5;28;01mdef\u001b[39;00m \u001b[38;5;21memissions_share\u001b[39m(n):\n\u001b[0;32m----> 2\u001b[0m     \u001b[38;5;28mprint\u001b[39m(\u001b[38;5;124m\"\u001b[39m\u001b[38;5;124mConventions Generator emissions :\u001b[39m\u001b[38;5;124m\"\u001b[39m, \u001b[38;5;28mstr\u001b[39m(\u001b[43mgen_emissions\u001b[49m\u001b[43m(\u001b[49m\u001b[43mn\u001b[49m\u001b[43m)\u001b[49m)) \n\u001b[1;32m      3\u001b[0m     \u001b[38;5;28mprint\u001b[39m(\u001b[38;5;124m\"\u001b[39m\u001b[38;5;124mCo2 atmosphere:\u001b[39m\u001b[38;5;124m\"\u001b[39m, \u001b[38;5;28mstr\u001b[39m(n\u001b[38;5;241m.\u001b[39mstores_t\u001b[38;5;241m.\u001b[39me\u001b[38;5;241m.\u001b[39mfilter(like\u001b[38;5;241m=\u001b[39m\u001b[38;5;124m\"\u001b[39m\u001b[38;5;124mco2 atmosphere\u001b[39m\u001b[38;5;124m\"\u001b[39m)\u001b[38;5;241m.\u001b[39miloc[\u001b[38;5;241m-\u001b[39m\u001b[38;5;241m1\u001b[39m]\u001b[38;5;241m/\u001b[39m\u001b[38;5;241m1e6\u001b[39m))\n\u001b[1;32m      4\u001b[0m     \u001b[38;5;28mprint\u001b[39m(\u001b[38;5;124m\"\u001b[39m\u001b[38;5;124mTotal:\u001b[39m\u001b[38;5;124m\"\u001b[39m, \u001b[38;5;28mstr\u001b[39m(gen_emissions(n) \u001b[38;5;241m+\u001b[39m n\u001b[38;5;241m.\u001b[39mstores_t\u001b[38;5;241m.\u001b[39me\u001b[38;5;241m.\u001b[39mfilter(like\u001b[38;5;241m=\u001b[39m\u001b[38;5;124m\"\u001b[39m\u001b[38;5;124mco2 atmosphere\u001b[39m\u001b[38;5;124m\"\u001b[39m)\u001b[38;5;241m.\u001b[39miloc[\u001b[38;5;241m-\u001b[39m\u001b[38;5;241m1\u001b[39m]\u001b[38;5;241m/\u001b[39m\u001b[38;5;241m1e6\u001b[39m))\n",
      "File \u001b[0;32m/tmp/ipykernel_731727/3680782479.py:29\u001b[0m, in \u001b[0;36mgen_emissions\u001b[0;34m(n)\u001b[0m\n\u001b[1;32m     27\u001b[0m x\u001b[39m=\u001b[39memission_factors\u001b[39m*\u001b[39mweightings\n\u001b[1;32m     28\u001b[0m x\n\u001b[0;32m---> 29\u001b[0m \u001b[39mreturn\u001b[39;00m (n\u001b[39m.\u001b[39;49mgenerators_t\u001b[39m.\u001b[39;49mp[conv_index] \u001b[39m*\u001b[39mx)\u001b[39m.\u001b[39msum()\u001b[39m.\u001b[39msum()\u001b[39m/\u001b[39m\u001b[39m1e6\u001b[39m\n",
      "File \u001b[0;32m~/.conda/envs/pypsa-earth/lib/python3.10/site-packages/pandas/core/frame.py:3767\u001b[0m, in \u001b[0;36mDataFrame.__getitem__\u001b[0;34m(self, key)\u001b[0m\n\u001b[1;32m   3765\u001b[0m     \u001b[39mif\u001b[39;00m is_iterator(key):\n\u001b[1;32m   3766\u001b[0m         key \u001b[39m=\u001b[39m \u001b[39mlist\u001b[39m(key)\n\u001b[0;32m-> 3767\u001b[0m     indexer \u001b[39m=\u001b[39m \u001b[39mself\u001b[39;49m\u001b[39m.\u001b[39;49mcolumns\u001b[39m.\u001b[39;49m_get_indexer_strict(key, \u001b[39m\"\u001b[39;49m\u001b[39mcolumns\u001b[39;49m\u001b[39m\"\u001b[39;49m)[\u001b[39m1\u001b[39m]\n\u001b[1;32m   3769\u001b[0m \u001b[39m# take() does not accept boolean indexers\u001b[39;00m\n\u001b[1;32m   3770\u001b[0m \u001b[39mif\u001b[39;00m \u001b[39mgetattr\u001b[39m(indexer, \u001b[39m\"\u001b[39m\u001b[39mdtype\u001b[39m\u001b[39m\"\u001b[39m, \u001b[39mNone\u001b[39;00m) \u001b[39m==\u001b[39m \u001b[39mbool\u001b[39m:\n",
      "File \u001b[0;32m~/.conda/envs/pypsa-earth/lib/python3.10/site-packages/pandas/core/indexes/base.py:5876\u001b[0m, in \u001b[0;36mIndex._get_indexer_strict\u001b[0;34m(self, key, axis_name)\u001b[0m\n\u001b[1;32m   5873\u001b[0m \u001b[39melse\u001b[39;00m:\n\u001b[1;32m   5874\u001b[0m     keyarr, indexer, new_indexer \u001b[39m=\u001b[39m \u001b[39mself\u001b[39m\u001b[39m.\u001b[39m_reindex_non_unique(keyarr)\n\u001b[0;32m-> 5876\u001b[0m \u001b[39mself\u001b[39;49m\u001b[39m.\u001b[39;49m_raise_if_missing(keyarr, indexer, axis_name)\n\u001b[1;32m   5878\u001b[0m keyarr \u001b[39m=\u001b[39m \u001b[39mself\u001b[39m\u001b[39m.\u001b[39mtake(indexer)\n\u001b[1;32m   5879\u001b[0m \u001b[39mif\u001b[39;00m \u001b[39misinstance\u001b[39m(key, Index):\n\u001b[1;32m   5880\u001b[0m     \u001b[39m# GH 42790 - Preserve name from an Index\u001b[39;00m\n",
      "File \u001b[0;32m~/.conda/envs/pypsa-earth/lib/python3.10/site-packages/pandas/core/indexes/base.py:5935\u001b[0m, in \u001b[0;36mIndex._raise_if_missing\u001b[0;34m(self, key, indexer, axis_name)\u001b[0m\n\u001b[1;32m   5933\u001b[0m     \u001b[39mif\u001b[39;00m use_interval_msg:\n\u001b[1;32m   5934\u001b[0m         key \u001b[39m=\u001b[39m \u001b[39mlist\u001b[39m(key)\n\u001b[0;32m-> 5935\u001b[0m     \u001b[39mraise\u001b[39;00m \u001b[39mKeyError\u001b[39;00m(\u001b[39mf\u001b[39m\u001b[39m\"\u001b[39m\u001b[39mNone of [\u001b[39m\u001b[39m{\u001b[39;00mkey\u001b[39m}\u001b[39;00m\u001b[39m] are in the [\u001b[39m\u001b[39m{\u001b[39;00maxis_name\u001b[39m}\u001b[39;00m\u001b[39m]\u001b[39m\u001b[39m\"\u001b[39m)\n\u001b[1;32m   5937\u001b[0m not_found \u001b[39m=\u001b[39m \u001b[39mlist\u001b[39m(ensure_index(key)[missing_mask\u001b[39m.\u001b[39mnonzero()[\u001b[39m0\u001b[39m]]\u001b[39m.\u001b[39munique())\n\u001b[1;32m   5938\u001b[0m \u001b[39mraise\u001b[39;00m \u001b[39mKeyError\u001b[39;00m(\u001b[39mf\u001b[39m\u001b[39m\"\u001b[39m\u001b[39m{\u001b[39;00mnot_found\u001b[39m}\u001b[39;00m\u001b[39m not in index\u001b[39m\u001b[39m\"\u001b[39m)\n",
      "\u001b[0;31mKeyError\u001b[0m: \"None of [Index(['NAM14_AC oil', 'NAM20_AC oil', 'NAM9_AC coal', 'NAM10_AC gas',\\n       'NAM11_AC gas', 'NAM12_AC gas', 'NAM13_AC gas', 'NAM14_AC gas',\\n       'NAM15_AC gas', 'NAM16_AC gas', 'NAM17_AC gas', 'NAM18_AC gas',\\n       'NAM19_AC gas', 'NAM1_AC gas', 'NAM20_AC gas', 'NAM22_AC gas',\\n       'NAM23_AC gas', 'NAM24_AC gas', 'NAM25_AC gas', 'NAM26_AC gas',\\n       'NAM27_AC gas', 'NAM28_AC gas', 'NAM29_AC gas', 'NAM2_AC gas',\\n       'NAM30_AC gas', 'NAM3_AC gas', 'NAM4_AC gas', 'NAM5_AC gas',\\n       'NAM6_AC gas', 'NAM7_AC gas', 'NAM8_AC gas', 'NAM9_AC gas'],\\n      dtype='object', name='Generator')] are in the [columns]\""
     ]
    }
   ],
   "source": [
    "emissions_share(n)"
   ]
  }
 ],
 "metadata": {
  "kernelspec": {
   "display_name": "Python 3.10.10 ('pypsa-earth')",
   "language": "python",
   "name": "python3"
  },
  "language_info": {
   "codemirror_mode": {
    "name": "ipython",
    "version": 3
   },
   "file_extension": ".py",
   "mimetype": "text/x-python",
   "name": "python",
   "nbconvert_exporter": "python",
   "pygments_lexer": "ipython3",
   "version": "3.10.10"
  },
  "orig_nbformat": 4,
  "vscode": {
   "interpreter": {
    "hash": "ce9b1886ff23ca88d020f1a81eb94f299cec504c0c2b3816c22f4ea26d1935b1"
   }
  }
 },
 "nbformat": 4,
 "nbformat_minor": 2
}
